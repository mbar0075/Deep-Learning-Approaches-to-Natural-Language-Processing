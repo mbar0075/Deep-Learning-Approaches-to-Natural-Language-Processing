{
 "cells": [
  {
   "cell_type": "code",
   "execution_count": 3,
   "metadata": {},
   "outputs": [],
   "source": [
    "%matplotlib inline\n",
    "\n",
    "import collections\n",
    "import random\n",
    "import matplotlib.pyplot as plt\n",
    "import nltk\n",
    "import numpy as np\n",
    "import pandas as pd\n",
    "import sklearn.metrics\n",
    "import torch\n",
    "\n",
    "device = 'cuda' if torch.cuda.is_available() else 'cpu'"
   ]
  },
  {
   "cell_type": "markdown",
   "metadata": {},
   "source": [
    "# Neural language models\n",
    "\n",
    "Up to now we've always been classifying given sequences of texts.\n",
    "In this topic, we'll see how to generate a sequence ourselves that will contain acceptable English text."
   ]
  },
  {
   "cell_type": "markdown",
   "metadata": {},
   "source": [
    "## Next token prediction\n",
    "\n",
    "The basis of neural network sequence generation is the **next token prediction** task, that is, given a prefix of a text, determine which token can be the next token in the text.\n",
    "For example, how likely is 'it' to come after 'I like'?\n",
    "This is a basic classification task where the input is the prefix and the output is a softmax over the tokens in the vocabulary.\n",
    "\n",
    "In order to be able to predict the first token, we'll add a new special token to our vocabulary called the **start token**.\n",
    "The start token is added to the front of every text so that we can predict the first token in a text by asking what comes after the the start token.\n",
    "Another important feature in next token prediction is the ability to predict that no token should come after a given prefix because the prefix makes a complete text.\n",
    "To handle this case we'll add another control token to our vocabulary called the **end token**, which, when predicted, signals that the end of the text has been reached.\n",
    "The end token is added to the end of every text.\n",
    "In practice there is no reason for these two to be two separate tokens and we usually use one token for both called the **edge token**.\n",
    "\n",
    "One way to predict the next token in a prefix is by having a data set that looks like this:\n",
    "\n",
    "| prefix                        | next token|\n",
    "|-------------------------------|-----------|\n",
    "| `EDGE PAD PAD   PAD  PAD PAD` | `I`       |\n",
    "| `EDGE I   PAD   PAD  PAD PAD` | `like`    |\n",
    "| `EDGE I   like  PAD  PAD PAD` | `it`      |\n",
    "| `EDGE I   like  it   PAD PAD` | `.`       |\n",
    "| `EDGE I   like  it   .   PAD` | `EDGE`    |\n",
    "| `EDGE PAD PAD   PAD  PAD PAD` | `I`       |\n",
    "| `EDGE I   PAD   PAD  PAD PAD` | `don't`   |\n",
    "| `EDGE I   don't PAD  PAD PAD` | `like`    |\n",
    "| `EDGE I   don't like PAD PAD` | `it`      |\n",
    "| `EDGE I   don't like it  PAD` | `.`       |\n",
    "| `EDGE I   don't like it    .` | `EDGE`    |\n",
    "\n",
    "But this will result in a lot of pad tokens which waste space and we don't actually need to learn to predict just one token in every row.\n",
    "We can learn this task efficiently by taking advantage of the intermediate RNN states.\n",
    "In the previous topic, we learned to make the same prediction for every prefix in a text.\n",
    "Now we will predict the next token for every prefix in a text.\n",
    "In this case, our data set will look like this:\n",
    "\n",
    "| x                          | y                           |\n",
    "|----------------------------|-----------------------------|\n",
    "| `EDGE I like  it   .  PAD` | `I like  it   .  EDGE  PAD` |\n",
    "| `EDGE I don't like it   .` | `I don't like it .    EDGE` |\n",
    "\n",
    "What will happen here is that the RNN will generate a prefix vector for each prefix in the sequence in 'x' followed by a softmax layer applied to each prefix vector.\n",
    "The target class for each prefix corresponds to the sequence in 'y'.\n",
    "The 'y' column is saying what the next token should be for every corresponding token in 'x'.\n",
    "For the first row, 'EDGE' corresponds to 'I', 'I' corresponds to 'like', and so on.\n",
    "So the prefix vector generated from 'EDGE' will have the target class 'I', the prefix vector generated from 'EDGE I' will have the target class 'like', and so on.\n",
    "This is much more efficient than the 'prefix - next token' data set, both in terms of space and training time.\n",
    "\n",
    "Here is how to make this data set:"
   ]
  },
  {
   "cell_type": "code",
   "execution_count": 4,
   "metadata": {},
   "outputs": [
    {
     "name": "stdout",
     "output_type": "stream",
     "text": [
      "max_len: 6\n",
      "vocab: ['<PAD>', '<EDGE>', '.', 'I', \"don't\", 'hate', 'it', 'like']\n",
      "edge index: 1\n",
      "\n",
      "train_text_x_indexed (edge token at the beginning):\n",
      "tensor([[1, 3, 7, 6, 2, 0],\n",
      "        [1, 3, 5, 6, 2, 0],\n",
      "        [1, 3, 4, 5, 6, 2],\n",
      "        [1, 3, 4, 7, 6, 2]], device='cuda:0')\n",
      "\n",
      "train_text_y_indexed (edge token at the end):\n",
      "tensor([[3, 7, 6, 2, 1, 0],\n",
      "        [3, 5, 6, 2, 1, 0],\n",
      "        [3, 4, 5, 6, 2, 1],\n",
      "        [3, 4, 7, 6, 2, 1]], device='cuda:0')\n"
     ]
    }
   ],
   "source": [
    "train_text_tokens = [\n",
    "    'I like it .'.split(' '),\n",
    "    'I hate it .'.split(' '),\n",
    "    'I don\\'t hate it .'.split(' '),\n",
    "    'I don\\'t like it .'.split(' '),\n",
    "]\n",
    "\n",
    "max_len = max(len(text) for text in train_text_tokens) + 1 # Including the edge token.\n",
    "print('max_len:', max_len)\n",
    "\n",
    "vocab = ['<PAD>', '<EDGE>'] + sorted({token for text in train_text_tokens for token in text})\n",
    "token2index = {t: i for (i, t) in enumerate(vocab)}\n",
    "pad_index = token2index['<PAD>']\n",
    "edge_index = token2index['<EDGE>']\n",
    "print('vocab:', vocab)\n",
    "print('edge index:', edge_index)\n",
    "print()\n",
    "\n",
    "train_text_x_indexed_np = np.full((len(train_text_tokens), max_len), pad_index, np.int64)\n",
    "for i in range(len(train_text_tokens)):\n",
    "    train_text_x_indexed_np[i, 0] = edge_index # Add the edge token at the beginning.\n",
    "    for j in range(len(train_text_tokens[i])):\n",
    "        train_text_x_indexed_np[i, j + 1] = token2index[train_text_tokens[i][j]]\n",
    "train_text_x_indexed = torch.tensor(train_text_x_indexed_np, device=device)\n",
    "print('train_text_x_indexed (edge token at the beginning):')\n",
    "print(train_text_x_indexed)\n",
    "print()\n",
    "\n",
    "train_text_y_indexed_np = np.full((len(train_text_tokens), max_len), pad_index, np.int64)\n",
    "for i in range(len(train_text_tokens)):\n",
    "    for j in range(len(train_text_tokens[i])):\n",
    "        train_text_y_indexed_np[i, j] = token2index[train_text_tokens[i][j]]\n",
    "    train_text_y_indexed_np[i, len(train_text_tokens[i])] = edge_index # Add the edge token at the end.\n",
    "train_text_y_indexed = torch.tensor(train_text_y_indexed_np, device=device)\n",
    "print('train_text_y_indexed (edge token at the end):')\n",
    "print(train_text_y_indexed)"
   ]
  },
  {
   "cell_type": "markdown",
   "metadata": {},
   "source": [
    "We'll now train a neural network to predict the next token from every prefix.\n",
    "Afterwards, we'll go through each unique prefix in the training set and show the softmax output of each possible token in the vocabulary being the next token in the prefix.\n",
    "\n",
    "Note that when using `torch.nn.functional.cross_entropy` on 3D logits, as is the case here, the function expects the dimensions to be `(batch size, num classes, time steps)`.\n",
    "Since our logits are `(batch size, time steps, num classes)`, we need to transpose dimensions 1 and 2 before passing them to the cross-entropy function."
   ]
  },
  {
   "cell_type": "code",
   "execution_count": 5,
   "metadata": {},
   "outputs": [
    {
     "name": "stdout",
     "output_type": "stream",
     "text": [
      "epoch error\n",
      "200 0.31368598341941833\n",
      "400 0.2596908509731293\n",
      "600 0.2559770941734314\n",
      "800 0.25450924038887024\n",
      "1000 0.2537882328033447\n",
      "1200 0.2533169090747833\n",
      "1400 0.25302961468696594\n",
      "1600 0.2528192400932312\n",
      "1800 0.2526983916759491\n",
      "2000 0.25256654620170593\n",
      "2200 0.252660870552063\n",
      "2400 0.25241896510124207\n",
      "2600 0.25236520171165466\n",
      "2800 0.2523222267627716\n",
      "3000 0.25228703022003174\n",
      "3200 0.2522587478160858\n",
      "3400 0.25224220752716064\n",
      "3600 0.2529582977294922\n",
      "3800 0.25219258666038513\n",
      "4000 0.25217878818511963\n",
      "\n"
     ]
    },
    {
     "data": {
      "image/png": "[encoded data removed]",
      "text/plain": [
       "<Figure size 640x480 with 1 Axes>"
      ]
     },
     "metadata": {},
     "output_type": "display_data"
    }
   ],
   "source": [
    "class Model(torch.nn.Module):\n",
    "\n",
    "    def __init__(self, vocab_size, embedding_size, state_size):\n",
    "        super().__init__()\n",
    "        self.embedding = torch.nn.Embedding(vocab_size, embedding_size)\n",
    "        self.rnn_s0 = torch.nn.Parameter(torch.zeros((state_size,), dtype=torch.float32))\n",
    "        self.rnn_c0 = torch.nn.Parameter(torch.zeros((state_size,), dtype=torch.float32))\n",
    "        self.rnn_cell = torch.nn.LSTMCell(embedding_size, state_size)\n",
    "        self.output_layer = torch.nn.Linear(state_size, vocab_size) # Output size is vocabulary size.\n",
    "\n",
    "    def forward(self, text_x_indexed):\n",
    "        batch_size = text_x_indexed.shape[0]\n",
    "        time_steps = text_x_indexed.shape[1]\n",
    "\n",
    "        embedded = self.embedding(text_x_indexed)\n",
    "        state = self.rnn_s0[None, :].tile((batch_size, 1))\n",
    "        c = self.rnn_c0[None, :].tile((batch_size, 1))\n",
    "        interm_states_list = []\n",
    "        for t in range(time_steps):\n",
    "            (state, c) = self.rnn_cell(embedded[:, t, :], (state, c))\n",
    "            interm_states_list.append(state)\n",
    "        interm_states = torch.stack(interm_states_list, dim=1)\n",
    "        return self.output_layer(interm_states)\n",
    "\n",
    "model = Model(len(vocab), embedding_size=2, state_size=2)\n",
    "model.to(device)\n",
    "\n",
    "optimiser = torch.optim.Adam(model.parameters(), lr=0.1)\n",
    "\n",
    "print('epoch', 'error')\n",
    "train_errors = []\n",
    "for epoch in range(1, 4000+1):\n",
    "    pad_mask = train_text_x_indexed == pad_index\n",
    "    \n",
    "    optimiser.zero_grad()\n",
    "    logits = model(train_text_x_indexed)\n",
    "    train_token_errors = torch.nn.functional.cross_entropy(logits.transpose(1, 2), train_text_y_indexed, reduction='none') # Transpose.\n",
    "    train_token_errors = train_token_errors.masked_fill(pad_mask, 0.0)\n",
    "    train_error = train_token_errors.sum()/(~pad_mask).sum()\n",
    "    train_errors.append(train_error.detach().cpu().tolist())\n",
    "    train_error.backward()\n",
    "    optimiser.step()\n",
    "\n",
    "    if epoch%200 == 0:\n",
    "        print(epoch, train_errors[-1])\n",
    "print()\n",
    "\n",
    "(fig, ax) = plt.subplots(1, 1)\n",
    "ax.set_xlabel('epoch')\n",
    "ax.set_ylabel('$E$')\n",
    "ax.plot(range(1, len(train_errors) + 1), train_errors, color='blue', linestyle='-', linewidth=3)\n",
    "ax.grid()"
   ]
  },
  {
   "cell_type": "markdown",
   "metadata": {},
   "source": [
    "Now we need to extract all the unique prefixed from the texts and indexify them."
   ]
  },
  {
   "cell_type": "code",
   "execution_count": 6,
   "metadata": {},
   "outputs": [],
   "source": [
    "prefixes = sorted({tuple(text[:i]) for text in train_text_tokens for i in range(len(text) + 1)}) # Prefix must be a tuple so we can put it in a set.\n",
    "prefix_max_len = max(len(prefix) for prefix in prefixes) + 1\n",
    "prefix_text_x_indexed_np = np.full((len(prefixes), prefix_max_len), pad_index, np.int64)\n",
    "for i in range(len(prefixes)):\n",
    "    prefix_text_x_indexed_np[i, 0] = edge_index\n",
    "    for j in range(len(prefixes[i])):\n",
    "        prefix_text_x_indexed_np[i, j+1] = token2index[prefixes[i][j]]\n",
    "prefix_text_x_indexed = torch.tensor(prefix_text_x_indexed_np, device=device)\n",
    "with torch.no_grad():\n",
    "    output = torch.softmax(model(prefix_text_x_indexed), dim=2).cpu().tolist()"
   ]
  },
  {
   "cell_type": "markdown",
   "metadata": {},
   "source": [
    "`output` is a 3D tensor with a prediction over the whole vocabulary, for every token in every text.\n",
    "We only want the predictions on the last token so that we can predict the next token after it.\n",
    "Since the prefix starts with an edge token, the index of the last token is `len(prefix)` rather than `len(prefix)-1`.\n",
    "Here we'll print the top 5 next tokens for every prefix."
   ]
  },
  {
   "cell_type": "code",
   "execution_count": 7,
   "metadata": {},
   "outputs": [
    {
     "name": "stdout",
     "output_type": "stream",
     "text": [
      "['<EDGE>']\n",
      "   I     : 0.99990225\n",
      "   it    : 0.00005834\n",
      "   hate  : 0.00002253\n",
      "   like  : 0.00001682\n",
      "   don't : 0.00000001\n",
      "\n",
      "['<EDGE>', 'I']\n",
      "   don't : 0.49980861\n",
      "   like  : 0.25005248\n",
      "   hate  : 0.25004482\n",
      "   .     : 0.00006885\n",
      "   it    : 0.00002454\n",
      "\n",
      "['<EDGE>', 'I', \"don't\"]\n",
      "   like  : 0.49991548\n",
      "   hate  : 0.49985737\n",
      "   don't : 0.00018412\n",
      "   I     : 0.00004304\n",
      "   it    : 0.00000000\n",
      "\n",
      "['<EDGE>', 'I', \"don't\", 'hate']\n",
      "   it    : 0.99982423\n",
      "   <EDGE>: 0.00008438\n",
      "   I     : 0.00007792\n",
      "   don't : 0.00001099\n",
      "   <PAD> : 0.00000101\n",
      "\n",
      "['<EDGE>', 'I', \"don't\", 'hate', 'it']\n",
      "   .     : 0.99989533\n",
      "   don't : 0.00008289\n",
      "   <EDGE>: 0.00002171\n",
      "   it    : 0.00000007\n",
      "   <PAD> : 0.00000000\n",
      "\n",
      "['<EDGE>', 'I', \"don't\", 'hate', 'it', '.']\n",
      "   <EDGE>: 0.99989903\n",
      "   it    : 0.00006367\n",
      "   .     : 0.00003729\n",
      "   <PAD> : 0.00000000\n",
      "   don't : 0.00000000\n",
      "\n",
      "['<EDGE>', 'I', \"don't\", 'like']\n",
      "   it    : 0.99982041\n",
      "   <EDGE>: 0.00010519\n",
      "   I     : 0.00006176\n",
      "   don't : 0.00001040\n",
      "   <PAD> : 0.00000101\n",
      "\n",
      "['<EDGE>', 'I', \"don't\", 'like', 'it']\n",
      "   .     : 0.99989522\n",
      "   don't : 0.00008301\n",
      "   <EDGE>: 0.00002171\n",
      "   it    : 0.00000007\n",
      "   <PAD> : 0.00000000\n",
      "\n",
      "['<EDGE>', 'I', \"don't\", 'like', 'it', '.']\n",
      "   <EDGE>: 0.99989903\n",
      "   it    : 0.00006368\n",
      "   .     : 0.00003729\n",
      "   <PAD> : 0.00000000\n",
      "   don't : 0.00000000\n",
      "\n",
      "['<EDGE>', 'I', 'hate']\n",
      "   it    : 0.99982351\n",
      "   I     : 0.00008453\n",
      "   <EDGE>: 0.00007817\n",
      "   don't : 0.00001129\n",
      "   <PAD> : 0.00000101\n",
      "\n",
      "['<EDGE>', 'I', 'hate', 'it']\n",
      "   .     : 0.99989533\n",
      "   don't : 0.00008289\n",
      "   <EDGE>: 0.00002172\n",
      "   it    : 0.00000007\n",
      "   <PAD> : 0.00000000\n",
      "\n",
      "['<EDGE>', 'I', 'hate', 'it', '.']\n",
      "   <EDGE>: 0.99989903\n",
      "   it    : 0.00006367\n",
      "   .     : 0.00003729\n",
      "   <PAD> : 0.00000000\n",
      "   don't : 0.00000000\n",
      "\n",
      "['<EDGE>', 'I', 'like']\n",
      "   it    : 0.99982268\n",
      "   I     : 0.00009110\n",
      "   <EDGE>: 0.00007257\n",
      "   don't : 0.00001107\n",
      "   <PAD> : 0.00000099\n",
      "\n",
      "['<EDGE>', 'I', 'like', 'it']\n",
      "   .     : 0.99989522\n",
      "   don't : 0.00008294\n",
      "   <EDGE>: 0.00002173\n",
      "   it    : 0.00000007\n",
      "   <PAD> : 0.00000000\n",
      "\n",
      "['<EDGE>', 'I', 'like', 'it', '.']\n",
      "   <EDGE>: 0.99989903\n",
      "   it    : 0.00006367\n",
      "   .     : 0.00003729\n",
      "   <PAD> : 0.00000000\n",
      "   don't : 0.00000000\n",
      "\n"
     ]
    }
   ],
   "source": [
    "for (prefix, y) in zip(prefixes, output):\n",
    "    last_token_y = y[len(prefix)]\n",
    "    top_preds = sorted(zip(last_token_y, vocab), reverse=True)[:5]\n",
    "    print(['<EDGE>'] + list(prefix))\n",
    "    for (x, token) in top_preds:\n",
    "        print(f'   {token:6s}: {x:.8f}')\n",
    "    print()"
   ]
  },
  {
   "cell_type": "markdown",
   "metadata": {},
   "source": [
    "Note how the softmax output of the next token after '\\<EDGE> I' is evenly split between 'like' and 'hate'.\n",
    "This is for the same reason we saw in the previous topic when we were classifying prefixes according to the sentiment of the whole text they are in.\n",
    "The prefix 'I' was half of the time in a positive text and half of the time in a negative text, so the neural network learned to output 0.5 instead of 1 or 0.\n",
    "Here the neural network has also learned to split the output between all the right answers.\n",
    "In fact, we can stop thinking of the outputs as classifying the next token and start thinking of them as the probability of each token being the next token.\n",
    "These probabilities will be the basis for our language models and for generating text.\n",
    "\n",
    "Note also that we're doing something called **self-supervised learning** here, that is, we're training the neural network to predict the input itself rather than some label about the input.\n",
    "Self-supervised learning tasks have the advantage that you only need to collect free text as data, without needing to label it."
   ]
  },
  {
   "cell_type": "markdown",
   "metadata": {},
   "source": [
    "## Language modelling\n",
    "\n",
    "The next word prediction model is also known as a **neural language model**.\n",
    "A language model is a model that calculates the probability of a text in a certain language domain (the kind of language used in the training set).\n",
    "The probability returned by the language model should estimate how plausible a text is.\n",
    "For example, we'd expect that the sentence \"The dog bit the cat.\" to have a higher probability than \"The chair bit the cat.\" which would in turn have a higher probability than \"The the the the.\".\n",
    "\n",
    "To understand how to calculate the probability of a text, we need to understand some conditional probability theory.\n",
    "Say we have the Venn diagram below consisting of a set of even numbers and a set of square numbers, with some numbers intersecting both.\n",
    "\n",
    "![](conditional_prob.png)\n",
    "\n",
    "There are 10 different numbers in all, 4 in the square set, 8 in the even set, and 2 shared between both.\n",
    "Therefore, the probability of randomly selecting a square number out of all 10 numbers is $\\frac{4}{10}$, the probability of selecting an even number is $\\frac{8}{10}$, and the probability of selecting a number that is both square and even is $\\frac{2}{10}$.\n",
    "These are **unconditional probabilities**, because they are based on the entire set of numbers.\n",
    "They are expressed as $P(square)$, $P(even)$, and $P(square, even)$.\n",
    "This last probability is called a **joint probability**.\n",
    "\n",
    "An example of a **conditional probability** would be the probability of selecting a square number, given that it is also an even number.\n",
    "This is giving extra information that narrows down the possible choices, resulting in a larger probability.\n",
    "In this case, the probability of selecting a square number given that it is also even is $\\frac{2}{8}$.\n",
    "This probability is expressed as $P(square|even)$, that is, \"the probability of square, given even\".\n",
    "\n",
    "Mathematically, a conditional probability is defined as:\n",
    "\n",
    "$$P(A|B) = \\frac{P(A, B)}{P(B)}$$\n",
    "\n",
    "or equivalently,\n",
    "\n",
    "$$P(A, B) = P(A|B) P(B)$$\n",
    "\n",
    "This gives us a way to **decompose** complex joint probabilities, which we'll be using for language models.\n",
    "\n",
    "Back to text and language models.\n",
    "\n",
    "The probability of a text is expressed as:\n",
    "\n",
    "$$P(t_1, t_2, \\dots, t_n)$$\n",
    "\n",
    "This is read as the joint probability of token 1, token 2, and so on up to the last token.\n",
    "Now the problem with this is that language models don't calculate this directly.\n",
    "Instead, they calculate a conditional probability: the probability of a token given a prefix of tokens preceeding it.\n",
    "\n",
    "$$P(t_n | t_1, t_2, \\dots, t_{n-1})$$\n",
    "\n",
    "We can convert the joint probability into many conditional probabilities like this by repeatedly decomposing it.\n",
    "The joint probability can be decomposed using conditional probabilities:\n",
    "\n",
    "$P(t_1, t_2, \\dots, t_n) = P(t_1) \\times P(t_2, t_3, \\dots, t_n | t_1)$\n",
    "\n",
    "which is saying that the joint probability of all the tokens is equal to the probability of the first token multiplied by the probability of the rest of the tokens given the first token (as a prefix).\n",
    "We can then decompose the second part again:\n",
    "\n",
    "$P(t_2, t_3, \\dots, t_n | t_1) = P(t_2 | t_1) \\times P(t_3, t_4 \\dots, t_n | t_1, t_2)$\n",
    "\n",
    "The probability $P(t_2 | t_1)$ means the probability that the next token is $t_2$ given that the prefix is $t_1$, which is what our next token prediction neural network computes!\n",
    "We can keep decomposing until we get the following:\n",
    "\n",
    "$P(t_1, t_2, \\dots, t_n) = P(t_1) \\times P(t_2 | t_1) \\times P(t_3 | t_1, t_2) \\times \\dots \\times P(t_n | t_1, t_2, \\dots, t_{n-1})$\n",
    "\n",
    "So we'll end up with the following probabilities that need to be multiplied together:\n",
    "\n",
    "* the probability of the first token by\n",
    "* the probability of the second token following the first token by\n",
    "* the probability of the third token following the first and second tokens by\n",
    "* ...\n",
    "* the probability of the last token following the first up to the second to last token.\n",
    "\n",
    "We can use the neural network to calculate all of these probabilities except for the first one.\n",
    "But the first token is the edge token, which we know has a probability of 100% of being the first token, because we make sure that it is always at the beginning of every text.\n",
    "So we can ignore this probability because we'd just be multiplying by 1.\n",
    "\n",
    "Therefore, the probability of the sentence \"I like it.\" is calculated as:\n",
    "\n",
    "$P(\\text{I} | \\text{EDGE}) \\times P(\\text{like} | \\text{EDGE I}) \\times P(\\text{it} | \\text{EDGE I like}) \\times P(\\text{.} | \\text{EDGE I like it}) \\times P(\\text{EDGE} | \\text{EDGE I like it .})$\n",
    "\n",
    "So we just need to get the probabilities of each token in the text given its prefix, which can be easily calculated using the next token prediction model."
   ]
  },
  {
   "cell_type": "code",
   "execution_count": 8,
   "metadata": {},
   "outputs": [
    {
     "name": "stdout",
     "output_type": "stream",
     "text": [
      "prefixes:\n",
      "tensor([[1, 3, 7, 6, 2, 0],\n",
      "        [1, 3, 5, 6, 2, 0],\n",
      "        [1, 3, 4, 5, 6, 2],\n",
      "        [1, 3, 4, 7, 6, 2]], device='cuda:0')\n",
      "\n",
      "next tokens:\n",
      "tensor([[3, 7, 6, 2, 1, 0],\n",
      "        [3, 5, 6, 2, 1, 0],\n",
      "        [3, 4, 5, 6, 2, 1],\n",
      "        [3, 4, 7, 6, 2, 1]], device='cuda:0')\n",
      "\n",
      "probability of every token in the vocabulary being the next token in every prefix\n",
      "tensor([[[1.5700e-11, 5.2787e-17, 8.0005e-20, 9.9990e-01, 1.2721e-08,\n",
      "          2.2534e-05, 5.8340e-05, 1.6823e-05],\n",
      "         [4.8782e-07, 2.7149e-10, 6.8849e-05, 1.1196e-07, 4.9981e-01,\n",
      "          2.5004e-01, 2.4536e-05, 2.5005e-01],\n",
      "         [9.8629e-07, 7.2571e-05, 1.8169e-08, 9.1097e-05, 1.1067e-05,\n",
      "          9.1128e-07, 9.9982e-01, 6.8019e-07],\n",
      "         [4.6111e-09, 2.1730e-05, 9.9990e-01, 4.8511e-18, 8.2945e-05,\n",
      "          3.3849e-09, 6.8333e-08, 3.3841e-09],\n",
      "         [2.4652e-10, 9.9990e-01, 3.7292e-05, 1.0911e-17, 3.0251e-11,\n",
      "          6.7203e-17, 6.3673e-05, 5.0148e-17],\n",
      "         [1.7285e-08, 6.7545e-01, 3.2450e-01, 1.8744e-17, 3.3416e-07,\n",
      "          1.0707e-12, 4.3820e-05, 9.1412e-13]],\n",
      "\n",
      "        [[1.5700e-11, 5.2787e-17, 8.0005e-20, 9.9990e-01, 1.2721e-08,\n",
      "          2.2534e-05, 5.8340e-05, 1.6823e-05],\n",
      "         [4.8782e-07, 2.7149e-10, 6.8849e-05, 1.1196e-07, 4.9981e-01,\n",
      "          2.5004e-01, 2.4536e-05, 2.5005e-01],\n",
      "         [1.0067e-06, 7.8169e-05, 2.0038e-08, 8.4528e-05, 1.1285e-05,\n",
      "          8.9320e-07, 9.9982e-01, 6.6700e-07],\n",
      "         [4.6082e-09, 2.1725e-05, 9.9990e-01, 4.8442e-18, 8.2893e-05,\n",
      "          3.3818e-09, 6.8277e-08, 3.3809e-09],\n",
      "         [2.4649e-10, 9.9990e-01, 3.7292e-05, 1.0908e-17, 3.0248e-11,\n",
      "          6.7191e-17, 6.3666e-05, 5.0140e-17],\n",
      "         [1.7298e-08, 6.7438e-01, 3.2558e-01, 1.8720e-17, 3.3528e-07,\n",
      "          1.0744e-12, 4.3747e-05, 9.1739e-13]],\n",
      "\n",
      "        [[1.5700e-11, 5.2787e-17, 8.0005e-20, 9.9990e-01, 1.2721e-08,\n",
      "          2.2534e-05, 5.8340e-05, 1.6823e-05],\n",
      "         [4.8782e-07, 2.7149e-10, 6.8849e-05, 1.1196e-07, 4.9981e-01,\n",
      "          2.5004e-01, 2.4536e-05, 2.5005e-01],\n",
      "         [4.5052e-12, 1.1842e-21, 1.4105e-15, 4.3040e-05, 1.8412e-04,\n",
      "          4.9986e-01, 6.9603e-10, 4.9992e-01],\n",
      "         [1.0054e-06, 8.4384e-05, 2.1175e-08, 7.7921e-05, 1.0989e-05,\n",
      "          8.3362e-07, 9.9982e-01, 6.2238e-07],\n",
      "         [4.6069e-09, 2.1713e-05, 9.9990e-01, 4.8419e-18, 8.2894e-05,\n",
      "          3.3819e-09, 6.8241e-08, 3.3810e-09],\n",
      "         [2.4650e-10, 9.9990e-01, 3.7292e-05, 1.0908e-17, 3.0248e-11,\n",
      "          6.7192e-17, 6.3666e-05, 5.0140e-17]],\n",
      "\n",
      "        [[1.5700e-11, 5.2787e-17, 8.0005e-20, 9.9990e-01, 1.2721e-08,\n",
      "          2.2534e-05, 5.8340e-05, 1.6823e-05],\n",
      "         [4.8782e-07, 2.7149e-10, 6.8849e-05, 1.1196e-07, 4.9981e-01,\n",
      "          2.5004e-01, 2.4536e-05, 2.5005e-01],\n",
      "         [4.5052e-12, 1.1842e-21, 1.4105e-15, 4.3040e-05, 1.8412e-04,\n",
      "          4.9986e-01, 6.9603e-10, 4.9992e-01],\n",
      "         [1.0122e-06, 1.0519e-04, 2.5355e-08, 6.1761e-05, 1.0402e-05,\n",
      "          6.9881e-07, 9.9982e-01, 5.2159e-07],\n",
      "         [4.6118e-09, 2.1710e-05, 9.9990e-01, 4.8541e-18, 8.3009e-05,\n",
      "          3.3890e-09, 6.8319e-08, 3.3881e-09],\n",
      "         [2.4655e-10, 9.9990e-01, 3.7293e-05, 1.0913e-17, 3.0255e-11,\n",
      "          6.7217e-17, 6.3680e-05, 5.0159e-17]]], device='cuda:0',\n",
      "       grad_fn=<SoftmaxBackward0>)\n"
     ]
    }
   ],
   "source": [
    "print('prefixes:')\n",
    "print(train_text_x_indexed)\n",
    "print()\n",
    "\n",
    "print('next tokens:')\n",
    "print(train_text_y_indexed)\n",
    "print()\n",
    "\n",
    "output = torch.softmax(model(train_text_x_indexed), dim=2)\n",
    "print('probability of every token in the vocabulary being the next token in every prefix')\n",
    "print(output)"
   ]
  },
  {
   "cell_type": "markdown",
   "metadata": {},
   "source": [
    "Now we're not interested in the probability of every possible token in the vocabulary for every token position in `train_text_x_indexed`.\n",
    "What we want are the probabilities of the correct next token according to `train_text_y_indexed` only.\n",
    "So we somehow need to select the needed number in every vector of `output` for every vector of probabilities it contains.\n",
    "We need something like this:"
   ]
  },
  {
   "cell_type": "code",
   "execution_count": 9,
   "metadata": {},
   "outputs": [
    {
     "name": "stdout",
     "output_type": "stream",
     "text": [
      "first vector of outputs:\n",
      "tensor([1.5700e-11, 5.2787e-17, 8.0005e-20, 9.9990e-01, 1.2721e-08, 2.2534e-05,\n",
      "        5.8340e-05, 1.6823e-05], device='cuda:0', grad_fn=<SliceBackward0>)\n",
      "\n",
      "index to extract from here:\n",
      "tensor(3, device='cuda:0')\n",
      "\n",
      "selected probability:\n",
      "tensor(0.9999, device='cuda:0', grad_fn=<SelectBackward0>)\n",
      "\n",
      "\n",
      "second vector of outputs:\n",
      "tensor([4.8782e-07, 2.7149e-10, 6.8849e-05, 1.1196e-07, 4.9981e-01, 2.5004e-01,\n",
      "        2.4536e-05, 2.5005e-01], device='cuda:0', grad_fn=<SliceBackward0>)\n",
      "\n",
      "index to extract from here:\n",
      "tensor(7, device='cuda:0')\n",
      "\n",
      "selected probability:\n",
      "tensor(0.2501, device='cuda:0', grad_fn=<SelectBackward0>)\n"
     ]
    }
   ],
   "source": [
    "print('first vector of outputs:')\n",
    "print(output[0, 0, :])\n",
    "print()\n",
    "print('index to extract from here:')\n",
    "print(train_text_y_indexed[0, 0])\n",
    "print()\n",
    "print('selected probability:')\n",
    "print(output[0, 0, train_text_y_indexed[0, 0]])\n",
    "print()\n",
    "print()\n",
    "\n",
    "print('second vector of outputs:')\n",
    "print(output[0, 1, :])\n",
    "print()\n",
    "print('index to extract from here:')\n",
    "print(train_text_y_indexed[0, 1])\n",
    "print()\n",
    "print('selected probability:')\n",
    "print(output[0, 1, train_text_y_indexed[0, 1]])"
   ]
  },
  {
   "cell_type": "markdown",
   "metadata": {},
   "source": [
    "So we need to extract a different index from every vector in the 3D tensor `outputs`.\n",
    "This is a complex selection mode that cannot be done using normal square bracket indexing.\n",
    "We need to use the `gather` function."
   ]
  },
  {
   "cell_type": "code",
   "execution_count": 10,
   "metadata": {},
   "outputs": [
    {
     "name": "stdout",
     "output_type": "stream",
     "text": [
      "tensor([[0],\n",
      "        [3],\n",
      "        [4]], device='cuda:0')\n"
     ]
    }
   ],
   "source": [
    "tensor  = torch.tensor([[0, 1], [2, 3], [4, 5]], dtype=torch.int64, device=device)\n",
    "indexes = torch.tensor([[ 0  ], [ 1  ], [ 0  ]], dtype=torch.int64, device=device)\n",
    "print(tensor.gather(1, indexes))"
   ]
  },
  {
   "cell_type": "markdown",
   "metadata": {},
   "source": [
    "In the above example, we're selecting index 0 from the first vector, index 1 from the second vector, and index 0 from the third vector.\n",
    "\n",
    "We'll explain this function in the way that is relevant to our needs, as `gather` can actually do more than what is explained below.\n",
    "`gather` takes a dimension and a tensor of indexes.\n",
    "The dimension says where to find the vectors to work on in the tensor.\n",
    "Since we want to select from the row vectors of the matrix, we specify dimension 1 (the rows).\n",
    "The indexes are a row-by-row specification of which element to extract from each vector.\n",
    "It must have the same shape as the tensor so that the indexes can be matched with the vectors.\n",
    "\n",
    "In our case, we have a 3D tensor (`outputs`) and 2D indexes (`train_text_y_indexed`).\n",
    "The vectors in `outputs` are found in dimension 2 and we need to add a singleton dimension at the end of `train_text_y_indexed` to make it compatible."
   ]
  },
  {
   "cell_type": "code",
   "execution_count": 11,
   "metadata": {},
   "outputs": [
    {
     "name": "stdout",
     "output_type": "stream",
     "text": [
      "probability of the tokens in y being the next token in every prefix\n",
      "tensor([[9.9990e-01, 2.5005e-01, 9.9982e-01, 9.9990e-01, 9.9990e-01, 1.7285e-08],\n",
      "        [9.9990e-01, 2.5004e-01, 9.9982e-01, 9.9990e-01, 9.9990e-01, 1.7298e-08],\n",
      "        [9.9990e-01, 4.9981e-01, 4.9986e-01, 9.9982e-01, 9.9990e-01, 9.9990e-01],\n",
      "        [9.9990e-01, 4.9981e-01, 4.9992e-01, 9.9982e-01, 9.9990e-01, 9.9990e-01]],\n",
      "       device='cuda:0', grad_fn=<SelectBackward0>)\n"
     ]
    }
   ],
   "source": [
    "token_probs = output.gather(2, train_text_y_indexed[:, :, None])[:, :, 0]\n",
    "print('probability of the tokens in y being the next token in every prefix')\n",
    "print(token_probs)"
   ]
  },
  {
   "cell_type": "markdown",
   "metadata": {},
   "source": [
    "All of these probabilities are each of those $P(t_n | t_1, t_2, \\dots, t_{n-1})$ factors that need to be multiplied together.\n",
    "Of course there's a matrix of these because each row belongs to a different text, so we should only multiply together the probabilities in the rows.\n",
    "We still need to get rid of the pad tokens, which we need to replace with 1, since they're being multiplied together."
   ]
  },
  {
   "cell_type": "code",
   "execution_count": 12,
   "metadata": {},
   "outputs": [
    {
     "name": "stdout",
     "output_type": "stream",
     "text": [
      "masked token probabilities:\n",
      "tensor([[0.9999, 0.2501, 0.9998, 0.9999, 0.9999, 1.0000],\n",
      "        [0.9999, 0.2500, 0.9998, 0.9999, 0.9999, 1.0000],\n",
      "        [0.9999, 0.4998, 0.4999, 0.9998, 0.9999, 0.9999],\n",
      "        [0.9999, 0.4998, 0.4999, 0.9998, 0.9999, 0.9999]], device='cuda:0',\n",
      "       grad_fn=<MaskedFillBackward0>)\n",
      "\n",
      "probability of whole texts:\n",
      "tensor([0.2499, 0.2499, 0.2497, 0.2497], device='cuda:0',\n",
      "       grad_fn=<ProdBackward1>)\n"
     ]
    }
   ],
   "source": [
    "token_probs = token_probs.masked_fill(pad_mask, 1.0)\n",
    "print('masked token probabilities:')\n",
    "print(token_probs)\n",
    "print()\n",
    "\n",
    "text_probs = token_probs.prod(dim=1)\n",
    "print('probability of whole texts:')\n",
    "print(text_probs)"
   ]
  },
  {
   "cell_type": "markdown",
   "metadata": {},
   "source": [
    "Note how each text has a probability of approximately 25%, which is because we overfitted the language model on the training set and it now thinks that those four texts are the only texts that could ever exist.\n",
    "\n",
    "Multiplying a bunch of probabilities together can result in a number that is too small to do anything with (or it gets rounded down to zero).\n",
    "This problem is usually avoided by using logarithmic probabilities.\n",
    "Logarithms of probabilities are larger and more easily usable than the probabilities themselves.\n",
    "\n",
    "An important change with logarithmic probabilities is that multiplying probabilities together is replaced with adding logarithmic probabilities together:\n",
    "\n",
    "$\\log(p_1 \\times p_2 \\times \\dots \\times p_n) = \\log(p_1) + \\log(p_2) + \\dots + \\log(p_n)$\n",
    "\n",
    "Therefore,\n",
    "\n",
    "$\\log P(\\text{I like it . EDGE}) = \\log P(\\text{I} | \\text{EDGE}) + \\log P(\\text{like} | \\text{EDGE I}) + \\log P(\\text{it} | \\text{EDGE I like}) + \\log P(\\text{.} | \\text{EDGE I like it}) + \\log P(\\text{EDGE} | \\text{EDGE I like it .})$\n",
    "\n",
    "You can then remove the logarithm by exponentiating it:\n",
    "\n",
    "$P(\\text{I like it .}) = e^{\\log P(\\text{I like it .})}$\n",
    "\n",
    "If you just want to sort your sentences by probability, you can just work with the logarithmic probabilities directly without converting them into actual probabilities because the largest logarithmic probabilities is also the largest probability.\n",
    "\n",
    "The use of logarithmic probabilities is such a common practice that PyTorch provides a log softmax function which immediately calculates the log of probabilities from logits: `torch.log_softmax`.\n",
    "\n",
    "Here is the complete code for getting both the logarithmic probabilities and the probabilities of texts using a language model:"
   ]
  },
  {
   "cell_type": "code",
   "execution_count": 13,
   "metadata": {},
   "outputs": [
    {
     "name": "stdout",
     "output_type": "stream",
     "text": [
      "['I', 'like', 'it', '.']: 0.24993 (-1.38657)\n",
      "['I', 'hate', 'it', '.']: 0.24992 (-1.38660)\n",
      "['I', \"don't\", 'hate', 'it', '.']: 0.24971 (-1.38744)\n",
      "['I', \"don't\", 'like', 'it', '.']: 0.24974 (-1.38733)\n"
     ]
    }
   ],
   "source": [
    "with torch.no_grad():\n",
    "    output = torch.log_softmax(model(train_text_x_indexed), dim=2)\n",
    "    token_log_probs = output.gather(2, train_text_y_indexed[:, :, None])[:, :, 0]\n",
    "    token_log_probs = token_log_probs.masked_fill(pad_mask, 0.0)\n",
    "    text_log_probs = token_log_probs.sum(dim=1).cpu().tolist()\n",
    "\n",
    "for (text, log_prob) in zip(train_text_tokens, text_log_probs):\n",
    "    print(f'{text}: {np.exp(log_prob):.5f} ({log_prob:.5f})')"
   ]
  },
  {
   "cell_type": "markdown",
   "metadata": {},
   "source": [
    "### Evaluating language models\n",
    "\n",
    "This brings us to how to evaluate a language model.\n",
    "A good language model is one that always gives a high probability to the correct next token.\n",
    "The standard way this is measured is using the **perplexity measure** (**pplx**):\n",
    "\n",
    "$\\text{pplx}(s) = e^{-\\frac{1}{|T|} \\log{P(T)}}$\n",
    "\n",
    "where $T$ is a text and $|T|$ is the number of tokens in the sentence.\n",
    "The text is usually not from the training set in order to check for overfitting.\n",
    "What this function measures is the average perplexity (confusion) that the model experiences when trying to guess the next word in every prefix in the sentence.\n",
    "If you get a perplexity of 50, that means that, on average, the model was as perplexed as having to pick the correct item out of 50.\n",
    "The smaller the perplexity, the better the language model, because it could confidently guess the words in the sentence.\n",
    "A perfect language model (which is impossible on a non-trivial test set) would have a perplexity of 1.\n",
    "\n",
    "It is also just $e$ to the power of the cross-entropy of a language model on a text.\n",
    "In fact we can calculate it very easily by just using `torch.nn.functional.cross_entropy`, without having to use `gather` or `log_softmax`.\n",
    "Just be sure to mask out the pad tokens as usual.\n",
    "\n",
    "Below we're finding the perplexity of the language model with respect to the whole training set:"
   ]
  },
  {
   "cell_type": "code",
   "execution_count": 14,
   "metadata": {},
   "outputs": [
    {
     "name": "stdout",
     "output_type": "stream",
     "text": [
      "pplx: 1.2868258953094482\n"
     ]
    }
   ],
   "source": [
    "with torch.no_grad():\n",
    "    logits = model(train_text_x_indexed)\n",
    "    train_token_xes = torch.nn.functional.cross_entropy(logits.transpose(1, 2), train_text_y_indexed, reduction='none')\n",
    "    train_token_xes = train_token_xes.masked_fill(pad_mask, 0.0)\n",
    "    train_xe = train_token_xes.sum()/(~pad_mask).sum()\n",
    "    pplx = torch.exp(train_xe).cpu().tolist()\n",
    "print('pplx:', pplx)"
   ]
  },
  {
   "cell_type": "markdown",
   "metadata": {},
   "source": [
    "## Token sampling\n",
    "\n",
    "We have seen how to guess the next item in a sequence and how to compute the probability of a sequence, but you were promised that we'd be generating sequences in this topic.\n",
    "This can be easily made using the probabilities of all tokens being the next token in a prefix.\n",
    "\n",
    "The idea is to start from a prefix consisting of just the edge token and iteratively add more tokens to the prefix until we have a complete text as a prefix.\n",
    "The tokens chosen to be the next token in the prefix will be chosen randomly based on their probabilities.\n",
    "This is called **sampling** tokens.\n",
    "So the more probable a token is to be the next token, the more likely it will be chosen as the next token.\n",
    "This can easily be done using the `random.choices` function:"
   ]
  },
  {
   "cell_type": "code",
   "execution_count": 15,
   "metadata": {},
   "outputs": [
    {
     "name": "stdout",
     "output_type": "stream",
     "text": [
      "30\n",
      "30\n",
      "20\n",
      "30\n",
      "30\n",
      "30\n",
      "10\n",
      "30\n",
      "30\n",
      "30\n",
      "30\n",
      "30\n",
      "10\n",
      "30\n",
      "30\n",
      "30\n",
      "10\n",
      "20\n",
      "10\n",
      "10\n"
     ]
    }
   ],
   "source": [
    "for _ in range(20):\n",
    "    print(random.choices([10, 20, 30], [0.1, 0.1, 0.8])[0])"
   ]
  },
  {
   "cell_type": "markdown",
   "metadata": {},
   "source": [
    "We can keep on adding tokens to our prefix until the edge token is chosen, or until some maximum number of tokens is reached.\n",
    "\n",
    "We'll create a fixed tensor for the prefix that is as long as the maximum number of tokens to generate.\n",
    "It will start containing only the edge token and the rest is filled with pad tokens.\n",
    "We'll then iteratively predict the next token from the non-pad tokens in the tensor and add it to the prefix."
   ]
  },
  {
   "cell_type": "code",
   "execution_count": 16,
   "metadata": {},
   "outputs": [
    {
     "name": "stdout",
     "output_type": "stream",
     "text": [
      "['<EDGE>', 'I', 'like', 'it', '.', '<EDGE>'] (p=0.250)\n"
     ]
    }
   ],
   "source": [
    "def sample_generate(model, vocab, edge_index, pad_index, max_len):\n",
    "    prefix_indexed = torch.tensor([[edge_index] + [pad_index]*max_len], dtype=torch.int64, device=device) # Initialise the prefix to just the edge token followed by pad tokens. It's faster to update a single element in a tensor than to recreate a whole new one.\n",
    "    prefix_prob = 1.0\n",
    "    prefix_len = 1\n",
    "    with torch.no_grad():\n",
    "        for i in range(max_len):\n",
    "            outputs = torch.softmax(model(prefix_indexed[:, :i+1]), dim=2)\n",
    "            token_probs = outputs[0, -1, :].cpu().tolist() # Get the probabilities of each token in the vocabulary being the next token in the prefix.\n",
    "            next_token_index = random.choices(range(len(vocab)), token_probs)[0] # Randomly choose a token according to its probability.\n",
    "            prefix_indexed[0, i+1] = next_token_index # Put this token in the prefix.\n",
    "            prefix_prob *= token_probs[next_token_index] # Update the probability of the prefix.\n",
    "            prefix_len += 1\n",
    "            if next_token_index == edge_index: # Stop selecting tokens when the edge token is selected.\n",
    "                break\n",
    "    text = [vocab[index] for index in prefix_indexed[0, :prefix_len].cpu().tolist()] # Convert the indexes in the prefix to string tokens.\n",
    "    return (text, prefix_prob)\n",
    "\n",
    "(text, text_prob) = sample_generate(model, vocab, edge_index, pad_index, max_len=10)\n",
    "print(text, f'(p={text_prob:.3f})')"
   ]
  },
  {
   "cell_type": "markdown",
   "metadata": {},
   "source": [
    "Rather than recreating a new prefix tensor every time a new token is selected, a maximum length prefix tensor is created at the start and is then updated with new tokens one token position at a time.\n",
    "This is faster.\n",
    "\n",
    "Note that we usually don't include the unknown token with the generated tokens as it is not a real word.\n",
    "Thankfully `random.choices` does not expect the probabilities to add up to 1 as it normalises the numbers so that they add up to 1 prior to using them.\n",
    "With this in mind, we can avoid generating unknown tokens by replacing the probability of the unknown token with 0.0 so that it would never be chosen, as shown below:"
   ]
  },
  {
   "cell_type": "code",
   "execution_count": 17,
   "metadata": {},
   "outputs": [],
   "source": [
    "def sample_generate_no_unk(model, vocab, edge_index, pad_index, unk_index, max_len):\n",
    "    prefix_indexed = torch.tensor([[edge_index] + [pad_index]*max_len], dtype=torch.int64, device=device)\n",
    "    prefix_prob = 1.0\n",
    "    prefix_len = 1\n",
    "    with torch.no_grad():\n",
    "        for i in range(max_len):\n",
    "            outputs = torch.softmax(model(prefix_indexed[:, :i+1]), dim=2)\n",
    "            token_probs = outputs[0, -1, :].cpu().tolist()\n",
    "            token_probs[unk_index] = 0.0 # Replace the probability of the unknown token with 0.0.\n",
    "            next_token_index = random.choices(range(len(vocab)), token_probs)[0]\n",
    "            prefix_indexed[0, i+1] = next_token_index\n",
    "            prefix_prob *= token_probs[next_token_index]\n",
    "            prefix_len += 1\n",
    "            if next_token_index == edge_index:\n",
    "                break\n",
    "    text = [vocab[index] for index in prefix_indexed[0, :prefix_len].cpu().tolist()]\n",
    "    return (text, prefix_prob)"
   ]
  },
  {
   "cell_type": "markdown",
   "metadata": {},
   "source": [
    "## Exercises"
   ]
  },
  {
   "cell_type": "markdown",
   "metadata": {},
   "source": [
    "### 1) Write a movie review\n",
    "\n",
    "Train a language model on the texts in the movie review data set.\n",
    "Preprocessing has been done for you.\n",
    "\n",
    "Measure the perplexity of the language model on the test set.\n",
    "Also generate a 3 random reviews from the trained language model.\n",
    "\n",
    "Note that language model training is considerably slow compared to classification, mostly due to the huge softmax.\n",
    "Note also that if you haven't been using batching up to now, you might need to use it now as language models use a considerable amount of memory."
   ]
  },
  {
   "cell_type": "code",
   "execution_count": 18,
   "metadata": {},
   "outputs": [
    {
     "name": "stderr",
     "output_type": "stream",
     "text": [
      "[nltk_data] Downloading package punkt to\n",
      "[nltk_data]     C:\\Users\\User\\AppData\\Roaming\\nltk_data...\n",
      "[nltk_data]   Unzipping tokenizers\\punkt.zip.\n"
     ]
    }
   ],
   "source": [
    "min_freq = 3\n",
    "\n",
    "train_df = pd.read_csv('../data_set/sentiment/train.csv')\n",
    "test_df = pd.read_csv('../data_set/sentiment/test.csv')\n",
    "\n",
    "train_text = train_df['text']\n",
    "test_text = test_df['text']\n",
    "\n",
    "nltk.download('punkt')\n",
    "train_text_tokens = [nltk.word_tokenize(text) for text in train_text]\n",
    "test_text_tokens = [nltk.word_tokenize(text) for text in test_text]\n",
    "max_len = max(max(len(text) for text in train_text_tokens), max(len(text) for text in test_text_tokens)) + 1\n",
    "\n",
    "frequencies = collections.Counter(token for text in train_text_tokens for token in text)\n",
    "vocabulary = sorted(frequencies.keys(), key=frequencies.get, reverse=True)\n",
    "while frequencies[vocabulary[-1]] < min_freq:\n",
    "    vocabulary.pop()\n",
    "vocab = ['<PAD>', '<EDGE>', '<UNK>'] + vocabulary\n",
    "token2index = {token: i for (i, token) in enumerate(vocab)}\n",
    "pad_index = token2index['<PAD>']\n",
    "edge_index = token2index['<EDGE>']\n",
    "unk_index = token2index['<UNK>']\n",
    "\n",
    "train_text_x_indexed_np = np.full((len(train_text_tokens), max_len), pad_index, np.int64)\n",
    "for i in range(len(train_text_tokens)):\n",
    "    train_text_x_indexed_np[i, 0] = edge_index\n",
    "    for j in range(len(train_text_tokens[i])):\n",
    "        train_text_x_indexed_np[i, j + 1] = token2index.get(train_text_tokens[i][j], unk_index)\n",
    "train_text_x_indexed = torch.tensor(train_text_x_indexed_np, device=device)\n",
    "\n",
    "train_text_y_indexed_np = np.full((len(train_text_tokens), max_len), pad_index, np.int64)\n",
    "for i in range(len(train_text_tokens)):\n",
    "    for j in range(len(train_text_tokens[i])):\n",
    "        train_text_y_indexed_np[i, j] = token2index.get(train_text_tokens[i][j], unk_index)\n",
    "    train_text_y_indexed_np[i, len(train_text_tokens[i])] = edge_index\n",
    "train_text_y_indexed = torch.tensor(train_text_y_indexed_np, device=device)\n",
    "\n",
    "test_text_x_indexed_np = np.full((len(test_text_tokens), max_len), pad_index, np.int64)\n",
    "for i in range(len(test_text_tokens)):\n",
    "    test_text_x_indexed_np[i, 0] = edge_index\n",
    "    for j in range(len(test_text_tokens[i])):\n",
    "        test_text_x_indexed_np[i, j + 1] = token2index.get(test_text_tokens[i][j], unk_index)\n",
    "test_text_x_indexed = torch.tensor(test_text_x_indexed_np, device=device)\n",
    "\n",
    "test_text_y_indexed_np = np.full((len(test_text_tokens), max_len), pad_index, np.int64)\n",
    "for i in range(len(test_text_tokens)):\n",
    "    for j in range(len(test_text_tokens[i])):\n",
    "        test_text_y_indexed_np[i, j] = token2index.get(test_text_tokens[i][j], unk_index)\n",
    "    test_text_y_indexed_np[i, len(test_text_tokens[i])] = edge_index\n",
    "test_text_y_indexed = torch.tensor(test_text_y_indexed_np, device=device)"
   ]
  },
  {
   "cell_type": "code",
   "execution_count": null,
   "metadata": {},
   "outputs": [],
   "source": []
  }
 ],
 "metadata": {
  "interpreter": {
   "hash": "75ee2b71ad44bf9ef4e9bee896f68ffbc764a6a2c6d1f57c86c48f99ffc25ca8"
  },
  "kernelspec": {
   "display_name": "Python 3 (ipykernel)",
   "language": "python",
   "name": "python3"
  },
  "language_info": {
   "codemirror_mode": {
    "name": "ipython",
    "version": 3
   },
   "file_extension": ".py",
   "mimetype": "text/x-python",
   "name": "python",
   "nbconvert_exporter": "python",
   "pygments_lexer": "ipython3",
   "version": "3.9.18"
  }
 },
 "nbformat": 4,
 "nbformat_minor": 4
}
